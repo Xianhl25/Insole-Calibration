{
 "cells": [
  {
   "cell_type": "code",
   "execution_count": 1,
   "metadata": {},
   "outputs": [],
   "source": [
    "import numpy as np\n",
    "import pandas as pd\n",
    "import plotly_express as px\n",
    "import plotly.graph_objects as go\n",
    "import scipy.signal as signal\n",
    "import dfUtils\n",
    "from const import left_insole_truncate_mapping\n",
    "from const import right_insole_truncate_mapping"
   ]
  },
  {
   "cell_type": "markdown",
   "metadata": {},
   "source": [
    "# Read insole data and forceplate data\n",
    "\n",
    "* insole data format - csv\n",
    "\n",
    "* forceplate data format - xlsx"
   ]
  },
  {
   "cell_type": "code",
   "execution_count": null,
   "metadata": {},
   "outputs": [],
   "source": [
    "insoleDataFile = r\"D:\\code\\Exoskeleton\\data\\20241014_calibration\\original\\insoleR10ms.csv\"\n",
    "forceplateDataFile = r\"D:\\code\\Exoskeleton\\data\\20241013_calibration\\original\\forceplateR10ms.xlsx\" #  your file path\n",
    "\n",
    "insoleDatadf = pd.read_csv(insoleDataFile, sep=',')\n",
    "forceplateDatadf = pd.read_excel(forceplateDataFile)"
   ]
  },
  {
   "cell_type": "markdown",
   "metadata": {},
   "source": [
    "# Process the original data\n",
    "\n",
    "* "
   ]
  },
  {
   "cell_type": "markdown",
   "metadata": {},
   "source": [
    "## Process the original insole data\n",
    "\n",
    "* "
   ]
  },
  {
   "cell_type": "code",
   "execution_count": null,
   "metadata": {},
   "outputs": [],
   "source": [
    "samplingRate = 50\n",
    "cutoffFreq = 5\n",
    "nyquist = 0.5 * samplingRate\n",
    "insoleUnit = 18\n",
    "normalCutoff = cutoffFreq / nyquist\n",
    "b, a = signal.butter(4, normalCutoff, btype='low', analog=False)\n",
    "\n",
    "for i in range(insoleUnit):\n",
    "    insoleDatadf[f'I{i}_lowpass'] = signal.filtfilt(b, a, insoleDatadf[f'I{i}']) # lowpass filter\n",
    "    insoleDatadf[f'I{i}_zeroed'] = np.where(insoleDatadf[f'I{i}_lowpass'] < left_insole_truncate_mapping[f'I{i}'], 0, insoleDatadf[f'I{i}_lowpass'])\n",
    "\n",
    "columnsToSum = [f'I{i}_zeroed' for i in range(insoleUnit)]\n",
    "insoleDatadf['Sum'] = insoleDatadf[columnsToSum].sum(axis=1)\n",
    "\n",
    "insoleDatadf = insoleDatadf.reset_index()"
   ]
  },
  {
   "cell_type": "markdown",
   "metadata": {},
   "source": [
    "## Process the original forceplate data\n",
    "\n",
    "* "
   ]
  },
  {
   "cell_type": "code",
   "execution_count": null,
   "metadata": {},
   "outputs": [],
   "source": [
    "samplingRate = 1200\n",
    "cutoffFreq = 20\n",
    "nyquist = 0.5 * samplingRate\n",
    "normalCutoff = cutoffFreq / nyquist\n",
    "b, a = signal.butter(4, normalCutoff, btype='low', analog=False)\n",
    "forceplateDatadf['FZ1_lowpass'] = signal.filtfilt(b, a, forceplateDatadf['FZ1']) ## 左腿\n",
    "# forceplateDatadf['FZ2_lowpass'] = signal.filtfilt(b, a, forceplateDatadf['FZ2']) ## 右腿\n",
    "\n",
    "threshold = 20 # 小于threshold都认为没有力\n",
    "forceplateDatadf['FZ1_zeroed'] = np.where(forceplateDatadf['FZ1_lowpass'] < threshold, 0, forceplateDatadf['FZ1_lowpass'])\n",
    "# forceplateDatadf['FZ2_zeroed'] = np.where(forceplateDatadf['FZ2_lowpass'] < threshold, 0, forceplateDatadf['FZ2_lowpass'])\n",
    "\n",
    "forceplateDatadf = forceplateDatadf.reset_index()"
   ]
  },
  {
   "cell_type": "markdown",
   "metadata": {},
   "source": [
    "# Visualization"
   ]
  },
  {
   "cell_type": "code",
   "execution_count": null,
   "metadata": {},
   "outputs": [],
   "source": [
    "fig = go.Figure()\n",
    "\n",
    "# visualize insole data\n",
    "for i in range(insoleUnit):\n",
    "    dfUtils.visualizeData(fig, insoleDatadf['index'].values, insoleDatadf[f'I{i}'].values, lineName=f'I{i}')\n",
    "    dfUtils.visualizeData(fig, insoleDatadf['index'].values, insoleDatadf[f'I{i}_lowpass'].values, lineName=f'I{i}_lowpass')\n",
    "    dfUtils.visualizeData(fig, insoleDatadf['index'].values, insoleDatadf[f'I{i}_zeroed'].values, lineName=f'I{i}_zeroed')\n",
    "\n",
    "# visualize forceplate data\n",
    "dfUtils.visualizeData(fig, forceplateDatadf['index'].values, forceplateDatadf['FZ1'].values, lineName='Force plate force before lowpass')\n",
    "dfUtils.visualizeData(fig, forceplateDatadf['index'].values, forceplateDatadf['FZ1_lowpass'].values, lineName='Force plate force after lowpass')\n",
    "dfUtils.visualizeData(fig, forceplateDatadf['index'].values, forceplateDatadf['FZ1_zeroed'].values, lineName='Force plate force after zeroed')\n",
    "\n",
    "# dfUtils.visualizeData(fig, forceplateDatadf['index'].values, forceplateDatadf['FZ2'].values, lineName='Force plate force before lowpass')\n",
    "# dfUtils.visualizeData(fig, forceplateDatadf['index'].values, forceplateDatadf['FZ2_lowpass'].values, lineName='Force plate force after lowpass')\n",
    "# dfUtils.visualizeData(fig, forceplateDatadf['index'].values, forceplateDatadf['FZ2_zeroed'].values, lineName='Force plate force after zeroed')\n",
    "\n",
    "fig.show()"
   ]
  },
  {
   "cell_type": "markdown",
   "metadata": {},
   "source": [
    "# Save file"
   ]
  },
  {
   "cell_type": "code",
   "execution_count": null,
   "metadata": {},
   "outputs": [],
   "source": [
    "insoleSaveFile = r\"D:\\code\\Exoskeleton\\data\\20241014_calibration\\clipped\\insoleR10ms_clipped.xlsx\"\n",
    "forceplateSaveFile = r\"D:\\code\\Exoskeleton\\data\\20241014_calibration\\clipped\\forceplateR10ms_clipped.xlsx\"\n",
    "\n",
    "# extract especial row\n",
    "startRowIndex = 908\n",
    "endRowIndex  = 8945\n",
    "\n",
    "dfUtils.clipDataAndSave(insoleDatadf, startRowIndex, endRowIndex, insoleSaveFile)\n",
    "# dfUtils.clipDataAndSave(forceplateDatadf, startRowIndex, endRowIndex, forceplateSaveFile)"
   ]
  },
  {
   "cell_type": "markdown",
   "metadata": {},
   "source": []
  }
 ],
 "metadata": {
  "kernelspec": {
   "display_name": "pytorch_gpu_3.8",
   "language": "python",
   "name": "python3"
  },
  "language_info": {
   "codemirror_mode": {
    "name": "ipython",
    "version": 3
   },
   "file_extension": ".py",
   "mimetype": "text/x-python",
   "name": "python",
   "nbconvert_exporter": "python",
   "pygments_lexer": "ipython3",
   "version": "3.8.18"
  }
 },
 "nbformat": 4,
 "nbformat_minor": 2
}
